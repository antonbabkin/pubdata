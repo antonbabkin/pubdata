{
 "cells": [
  {
   "cell_type": "markdown",
   "id": "b042e902-98cc-4038-86ff-5a1dfd37a9a2",
   "metadata": {},
   "source": [
    "# Census FTP server\n",
    "\n",
    "A lot of Census Bureau publications are available at https://www2.census.gov/. There is no search functionality, and one can rely on passing `site:https://www2.census.gov/` to a search engine query. This notebook crawls through server pages and creates an index of all files. For speed, scraping of every top level directory is time-limited. This in effect implies breadth-first traversal with limited max depth."
   ]
  },
  {
   "cell_type": "code",
   "execution_count": 1,
   "id": "cfeb9e33-4d4e-48f9-ad68-0246f19ef9c1",
   "metadata": {
    "execution": {
     "iopub.execute_input": "2021-11-01T16:28:48.109204Z",
     "iopub.status.busy": "2021-11-01T16:28:48.108799Z",
     "iopub.status.idle": "2021-11-01T16:28:48.342129Z",
     "shell.execute_reply": "2021-11-01T16:28:48.341273Z",
     "shell.execute_reply.started": "2021-11-01T16:28:48.109091Z"
    },
    "tags": []
   },
   "outputs": [],
   "source": [
    "import time\n",
    "import json\n",
    "\n",
    "import requests\n",
    "from bs4 import BeautifulSoup\n",
    "\n",
    "INDEX = {}\n",
    "TIMEOUT = None"
   ]
  },
  {
   "cell_type": "code",
   "execution_count": 2,
   "id": "6029a997-2e64-42da-a88c-3315a9c098fa",
   "metadata": {
    "execution": {
     "iopub.execute_input": "2021-11-01T16:28:49.621067Z",
     "iopub.status.busy": "2021-11-01T16:28:49.620583Z",
     "iopub.status.idle": "2021-11-01T16:28:49.625360Z",
     "shell.execute_reply": "2021-11-01T16:28:49.624970Z",
     "shell.execute_reply.started": "2021-11-01T16:28:49.621018Z"
    },
    "tags": []
   },
   "outputs": [],
   "source": [
    "import sys\n",
    "sys.stdout = open('census_ftp.log', 'w')\n",
    "sys.stderr = sys.stdout"
   ]
  },
  {
   "cell_type": "code",
   "execution_count": 3,
   "id": "3512f288-a444-483d-909c-6ff80d196133",
   "metadata": {
    "execution": {
     "iopub.execute_input": "2021-11-01T16:28:52.953389Z",
     "iopub.status.busy": "2021-11-01T16:28:52.952923Z",
     "iopub.status.idle": "2021-11-01T16:28:52.972887Z",
     "shell.execute_reply": "2021-11-01T16:28:52.972602Z",
     "shell.execute_reply.started": "2021-11-01T16:28:52.953348Z"
    },
    "tags": []
   },
   "outputs": [],
   "source": [
    "def parse(url):\n",
    "    resp = requests.get(url)\n",
    "    soup = BeautifulSoup(resp.text)\n",
    "\n",
    "    items = {}\n",
    "    for row in soup.find_all('tr'):\n",
    "        cells = row.find_all('td')\n",
    "        if not cells: continue\n",
    "        name = cells[1].get_text()\n",
    "        if name == 'Parent Directory': continue\n",
    "        href = cells[1].find('a').get('href')\n",
    "        last_modified = cells[2].get_text().strip()\n",
    "        size = cells[3].get_text().strip()\n",
    "        icon = cells[0].find('img')\n",
    "        if icon.get('alt') == '[DIR]':\n",
    "            items[href] = {}\n",
    "        else:\n",
    "            items[href] = [last_modified, size]\n",
    "    return items\n",
    "\n",
    "def crawl(url):\n",
    "#     time.sleep(1)\n",
    "    if time.time() > TIMEOUT:\n",
    "        print('TIMEOUT')\n",
    "        return {}\n",
    "    print(url)\n",
    "\n",
    "    items = parse(url)\n",
    "    for branch, content in items.items():\n",
    "        if content == {}:\n",
    "            # recursive call\n",
    "            items[branch] = crawl(url + branch)\n",
    "    return items\n",
    "\n",
    "def scrape_top_branch(branch):\n",
    "    global TIMEOUT\n",
    "    print(f'Start scraping branch {branch}.')\n",
    "    TIMEOUT = time.time() + 60\n",
    "    index = {}\n",
    "    index['utc_time_start'] = time.asctime(time.gmtime())\n",
    "    index['root_url'] = 'https://www2.census.gov/' + branch\n",
    "    index['index'] = crawl(index['root_url'])\n",
    "    index['utc_time_finish'] = time.asctime(time.gmtime())\n",
    "    incomplete = '_incomplete' if time.time() > TIMEOUT else ''\n",
    "    dump_to = f'census_ftp_{branch[:-1]}{incomplete}.json'\n",
    "    json.dump(index, open(dump_to, 'w'))\n",
    "    print(f'Finish scraping branch {branch}. Index saved to {dump_to}')\n",
    "    \n",
    "def scrape_all():\n",
    "    top = parse('https://www2.census.gov/')\n",
    "    for key in top:\n",
    "        scrape_top_branch(key)\n",
    "\n",
    "def load(index_file='census_ftp.json'):\n",
    "    index = json.load(open(index_file))\n",
    "    print(f'Loading index updated {index[\"utc_time_start\"]}')\n",
    "    global INDEX\n",
    "    INDEX = index\n",
    "\n",
    "def find(pattern):\n",
    "    matches = []\n",
    "    def scan(prefix, tree):\n",
    "        for branch, subtree in tree.items():\n",
    "            path = prefix + branch\n",
    "            if isinstance(subtree, dict):\n",
    "                scan(path, subtree)\n",
    "            else:\n",
    "                if pattern in path.lower():\n",
    "                    matches.append(path)\n",
    "    scan('', INDEX['index'])\n",
    "    return matches"
   ]
  },
  {
   "cell_type": "code",
   "execution_count": 4,
   "id": "e0eff746-97bc-487a-8f12-871617638ed6",
   "metadata": {
    "execution": {
     "iopub.execute_input": "2021-11-01T16:28:58.774781Z",
     "iopub.status.busy": "2021-11-01T16:28:58.774384Z",
     "iopub.status.idle": "2021-11-01T16:58:47.727154Z",
     "shell.execute_reply": "2021-11-01T16:58:47.726691Z",
     "shell.execute_reply.started": "2021-11-01T16:28:58.774737Z"
    },
    "tags": []
   },
   "outputs": [],
   "source": [
    "scrape_all()"
   ]
  },
  {
   "cell_type": "code",
   "execution_count": 81,
   "id": "3a0006bb-61e5-4c5c-8352-d03191dfa5e1",
   "metadata": {
    "execution": {
     "iopub.execute_input": "2021-10-27T15:27:57.604133Z",
     "iopub.status.busy": "2021-10-27T15:27:57.603655Z",
     "iopub.status.idle": "2021-10-27T15:27:57.615674Z",
     "shell.execute_reply": "2021-10-27T15:27:57.614794Z",
     "shell.execute_reply.started": "2021-10-27T15:27:57.604090Z"
    },
    "tags": []
   },
   "outputs": [
    {
     "name": "stdout",
     "output_type": "stream",
     "text": [
      "Loading index updated Wed Oct 27 15:23:53 2021\n"
     ]
    }
   ],
   "source": [
    "load()"
   ]
  },
  {
   "cell_type": "code",
   "execution_count": null,
   "id": "ffe92cf0-fbd7-4fda-8f6e-3547d3eca13b",
   "metadata": {
    "tags": []
   },
   "outputs": [],
   "source": [
    "find('ces')"
   ]
  }
 ],
 "metadata": {
  "kernelspec": {
   "display_name": "Python 3 (ipykernel)",
   "language": "python",
   "name": "python3"
  },
  "language_info": {
   "codemirror_mode": {
    "name": "ipython",
    "version": 3
   },
   "file_extension": ".py",
   "mimetype": "text/x-python",
   "name": "python",
   "nbconvert_exporter": "python",
   "pygments_lexer": "ipython3",
   "version": "3.9.7"
  }
 },
 "nbformat": 4,
 "nbformat_minor": 5
}
